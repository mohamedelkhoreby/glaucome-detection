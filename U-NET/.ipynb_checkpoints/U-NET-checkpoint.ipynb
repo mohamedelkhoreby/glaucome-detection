{
 "cells": [
  {
   "cell_type": "code",
   "execution_count": null,
   "id": "8f38924d",
   "metadata": {},
   "outputs": [],
   "source": [
    "\n",
    "import tensorflow as tf\n",
    "import os\n",
    "import random\n",
    "import numpy as np\n",
    "from keras.models import Sequential\n",
    "from tqdm import tqdm \n",
    "from keras.optimizers import *\n",
    "from skimage.io import imread, imshow\n",
    "from skimage.transform import resize\n",
    "import matplotlib.pyplot as plt\n",
    "from keras.layers import UpSampling2D\n",
    "from keras.layers import Dense, Concatenate\n",
    "from keras.preprocessing.image import ImageDataGenerator \n",
    "\n",
    "from tensorflow import keras\n",
    "from tensorflow.keras import layers\n",
    "import tensorflow_datasets as tfds\n",
    "import matplotlib.pyplot as plt\n",
    "import numpy as np"
   ]
  },
  {
   "cell_type": "code",
   "execution_count": null,
   "id": "e00e00ee",
   "metadata": {},
   "outputs": [],
   "source": [
    "trainning='dataset/trainning'\n",
    "mask='dataset/mask'\n",
    "test='dataset/test'\n",
    "mask_test='dataset/mask_test'"
   ]
  }
 ],
 "metadata": {
  "kernelspec": {
   "display_name": "Python 3 (ipykernel)",
   "language": "python",
   "name": "python3"
  },
  "language_info": {
   "codemirror_mode": {
    "name": "ipython",
    "version": 3
   },
   "file_extension": ".py",
   "mimetype": "text/x-python",
   "name": "python",
   "nbconvert_exporter": "python",
   "pygments_lexer": "ipython3",
   "version": "3.8.13"
  }
 },
 "nbformat": 4,
 "nbformat_minor": 5
}
